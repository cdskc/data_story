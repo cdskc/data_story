{
 "cells": [
  {
   "cell_type": "markdown",
   "id": "43bd63c0-222f-4c24-b32f-ac498dd1a67a",
   "metadata": {},
   "source": [
    "# What factors drive current pharmacetical spending?"
   ]
  },
  {
   "cell_type": "markdown",
   "id": "b6c34525-99c7-4f14-8073-d75172d4432f",
   "metadata": {},
   "source": [
    "#### Setup"
   ]
  },
  {
   "cell_type": "code",
   "execution_count": 1,
   "id": "67f91143-70bb-4901-b326-47e093f7c3b6",
   "metadata": {},
   "outputs": [],
   "source": [
    "import pandas as pd\n",
    "import numpy as np\n",
    "import os\n",
    "import matplotlib.pyplot as plt\n",
    "import seaborn as sns\n",
    "import scipy\n",
    "import warnings\n",
    "warnings.filterwarnings('ignore', category=FutureWarning)"
   ]
  },
  {
   "cell_type": "code",
   "execution_count": 2,
   "id": "4f5461c5-d5f7-4970-809f-d8b474b09f40",
   "metadata": {},
   "outputs": [],
   "source": [
    "claims = pd.read_csv('claims_2023q4_2024q1.csv', low_memory=False)"
   ]
  },
  {
   "cell_type": "code",
   "execution_count": 3,
   "id": "b054aed0-1687-4899-af7a-4608648da572",
   "metadata": {},
   "outputs": [],
   "source": [
    "claims = claims.drop(columns=[\n",
    "    # 'tp_code', 'tp_name', \n",
    "    'date', 'store_num',\n",
    "    'rx_number', 'refill_num', 'sold_date'\n",
    "])\n",
    "\n",
    "# Create the 'drug' column by extracting the first word from 'product'\n",
    "claims['drug'] = claims['product'].str.extract(r'^(\\w+)')\n",
    "\n",
    "claims['margin'] = claims.total_price - claims.acq_cost\n",
    "claims = claims.drop(index=406658)"
   ]
  },
  {
   "cell_type": "code",
   "execution_count": 4,
   "id": "2cb92cce-ebb2-4882-90f8-f2c4ee71c17b",
   "metadata": {},
   "outputs": [
    {
     "data": {
      "text/html": [
       "<div>\n",
       "<style scoped>\n",
       "    .dataframe tbody tr th:only-of-type {\n",
       "        vertical-align: middle;\n",
       "    }\n",
       "\n",
       "    .dataframe tbody tr th {\n",
       "        vertical-align: top;\n",
       "    }\n",
       "\n",
       "    .dataframe thead th {\n",
       "        text-align: right;\n",
       "    }\n",
       "</style>\n",
       "<table border=\"1\" class=\"dataframe\">\n",
       "  <thead>\n",
       "    <tr style=\"text-align: right;\">\n",
       "      <th></th>\n",
       "      <th>product</th>\n",
       "      <th>ndc</th>\n",
       "      <th>gsn</th>\n",
       "      <th>qty</th>\n",
       "      <th>acq_cost</th>\n",
       "      <th>total_price</th>\n",
       "      <th>tp_code</th>\n",
       "      <th>tp_name</th>\n",
       "      <th>generic</th>\n",
       "      <th>drug</th>\n",
       "      <th>margin</th>\n",
       "    </tr>\n",
       "  </thead>\n",
       "  <tbody>\n",
       "    <tr>\n",
       "      <th>0</th>\n",
       "      <td>AMPHETAMINE-DEXTROAMPHETAMI 30 TABS</td>\n",
       "      <td>16714-0808-01</td>\n",
       "      <td>34359.0</td>\n",
       "      <td>60.0</td>\n",
       "      <td>26.12</td>\n",
       "      <td>44.40</td>\n",
       "      <td>100711</td>\n",
       "      <td>BCBS MINNESOTA</td>\n",
       "      <td>G</td>\n",
       "      <td>AMPHETAMINE</td>\n",
       "      <td>18.28</td>\n",
       "    </tr>\n",
       "    <tr>\n",
       "      <th>1</th>\n",
       "      <td>METHYLPHENIDATE HCL 20MG TABS</td>\n",
       "      <td>00406-1146-01</td>\n",
       "      <td>4027.0</td>\n",
       "      <td>60.0</td>\n",
       "      <td>89.89</td>\n",
       "      <td>10.00</td>\n",
       "      <td>100717</td>\n",
       "      <td>MEDCO/ESI PEU</td>\n",
       "      <td>G</td>\n",
       "      <td>METHYLPHENIDATE</td>\n",
       "      <td>-79.89</td>\n",
       "    </tr>\n",
       "    <tr>\n",
       "      <th>2</th>\n",
       "      <td>AMPHETAMINE-DEXTROAMPHETAMI 30 TABS</td>\n",
       "      <td>16714-0808-01</td>\n",
       "      <td>34359.0</td>\n",
       "      <td>60.0</td>\n",
       "      <td>26.12</td>\n",
       "      <td>10.77</td>\n",
       "      <td>30130</td>\n",
       "      <td>PCN IRX</td>\n",
       "      <td>G</td>\n",
       "      <td>AMPHETAMINE</td>\n",
       "      <td>-15.35</td>\n",
       "    </tr>\n",
       "    <tr>\n",
       "      <th>3</th>\n",
       "      <td>HYDROCODONE-ACETAMINOPH 10-325 TABS</td>\n",
       "      <td>27808-0037-01</td>\n",
       "      <td>30623.0</td>\n",
       "      <td>90.0</td>\n",
       "      <td>8.34</td>\n",
       "      <td>8.40</td>\n",
       "      <td>99692</td>\n",
       "      <td>HUMANA MEDICARE</td>\n",
       "      <td>G</td>\n",
       "      <td>HYDROCODONE</td>\n",
       "      <td>0.06</td>\n",
       "    </tr>\n",
       "    <tr>\n",
       "      <th>4</th>\n",
       "      <td>HYDROMORPHONE HCL 4MG TABS</td>\n",
       "      <td>00406-3244-01</td>\n",
       "      <td>NaN</td>\n",
       "      <td>84.0</td>\n",
       "      <td>14.81</td>\n",
       "      <td>5.19</td>\n",
       "      <td>71573</td>\n",
       "      <td>APM/CARMRK</td>\n",
       "      <td>G</td>\n",
       "      <td>HYDROMORPHONE</td>\n",
       "      <td>-9.62</td>\n",
       "    </tr>\n",
       "  </tbody>\n",
       "</table>\n",
       "</div>"
      ],
      "text/plain": [
       "                               product            ndc      gsn   qty  \\\n",
       "0  AMPHETAMINE-DEXTROAMPHETAMI 30 TABS  16714-0808-01  34359.0  60.0   \n",
       "1        METHYLPHENIDATE HCL 20MG TABS  00406-1146-01   4027.0  60.0   \n",
       "2  AMPHETAMINE-DEXTROAMPHETAMI 30 TABS  16714-0808-01  34359.0  60.0   \n",
       "3  HYDROCODONE-ACETAMINOPH 10-325 TABS  27808-0037-01  30623.0  90.0   \n",
       "4           HYDROMORPHONE HCL 4MG TABS  00406-3244-01      NaN  84.0   \n",
       "\n",
       "   acq_cost  total_price tp_code          tp_name generic             drug  \\\n",
       "0     26.12        44.40  100711   BCBS MINNESOTA       G      AMPHETAMINE   \n",
       "1     89.89        10.00  100717    MEDCO/ESI PEU       G  METHYLPHENIDATE   \n",
       "2     26.12        10.77   30130          PCN IRX       G      AMPHETAMINE   \n",
       "3      8.34         8.40   99692  HUMANA MEDICARE       G      HYDROCODONE   \n",
       "4     14.81         5.19   71573       APM/CARMRK       G    HYDROMORPHONE   \n",
       "\n",
       "   margin  \n",
       "0   18.28  \n",
       "1  -79.89  \n",
       "2  -15.35  \n",
       "3    0.06  \n",
       "4   -9.62  "
      ]
     },
     "execution_count": 4,
     "metadata": {},
     "output_type": "execute_result"
    }
   ],
   "source": [
    "claims.head()"
   ]
  },
  {
   "cell_type": "code",
   "execution_count": 5,
   "id": "2fb0b27e-d982-485b-8dd0-99f633cf2098",
   "metadata": {},
   "outputs": [
    {
     "name": "stdout",
     "output_type": "stream",
     "text": [
      "The total sales for this period were $35,891,291\n"
     ]
    }
   ],
   "source": [
    "print('The total sales for this period were 'f\"${round(sum(claims.total_price)):,.0f}\")"
   ]
  },
  {
   "cell_type": "code",
   "execution_count": 6,
   "id": "057aa7c6-e69d-4600-ab0c-95d11a589ac1",
   "metadata": {},
   "outputs": [],
   "source": [
    "claims_by_drug = claims.groupby('drug').agg({\n",
    "    'qty': 'sum',\n",
    "    'acq_cost': 'sum',\n",
    "    'total_price': 'sum',\n",
    "    'drug': 'count',\n",
    "    'margin': 'sum'\n",
    "})\n",
    "\n",
    "# Rename the column for clarity\n",
    "claims_by_drug = claims_by_drug.rename(columns={'drug': 'num_claims'})"
   ]
  },
  {
   "cell_type": "code",
   "execution_count": 7,
   "id": "053a61cd-5208-4b98-9ad7-03723022468d",
   "metadata": {},
   "outputs": [
    {
     "data": {
      "text/html": [
       "<div>\n",
       "<style scoped>\n",
       "    .dataframe tbody tr th:only-of-type {\n",
       "        vertical-align: middle;\n",
       "    }\n",
       "\n",
       "    .dataframe tbody tr th {\n",
       "        vertical-align: top;\n",
       "    }\n",
       "\n",
       "    .dataframe thead th {\n",
       "        text-align: right;\n",
       "    }\n",
       "</style>\n",
       "<table border=\"1\" class=\"dataframe\">\n",
       "  <thead>\n",
       "    <tr style=\"text-align: right;\">\n",
       "      <th></th>\n",
       "      <th>qty</th>\n",
       "      <th>acq_cost</th>\n",
       "      <th>total_price</th>\n",
       "      <th>num_claims</th>\n",
       "      <th>margin</th>\n",
       "      <th>avg_claim</th>\n",
       "      <th>% of total</th>\n",
       "      <th>margin_pct</th>\n",
       "    </tr>\n",
       "    <tr>\n",
       "      <th>drug</th>\n",
       "      <th></th>\n",
       "      <th></th>\n",
       "      <th></th>\n",
       "      <th></th>\n",
       "      <th></th>\n",
       "      <th></th>\n",
       "      <th></th>\n",
       "      <th></th>\n",
       "    </tr>\n",
       "  </thead>\n",
       "  <tbody>\n",
       "    <tr>\n",
       "      <th>ABILIFY</th>\n",
       "      <td>53.0</td>\n",
       "      <td>125958.77</td>\n",
       "      <td>127985.88</td>\n",
       "      <td>53</td>\n",
       "      <td>2027.11</td>\n",
       "      <td>2414.83</td>\n",
       "      <td>0.36</td>\n",
       "      <td>1.6</td>\n",
       "    </tr>\n",
       "    <tr>\n",
       "      <th>ABIRATERONE</th>\n",
       "      <td>240.0</td>\n",
       "      <td>620.00</td>\n",
       "      <td>528.50</td>\n",
       "      <td>2</td>\n",
       "      <td>-91.50</td>\n",
       "      <td>264.25</td>\n",
       "      <td>0.00</td>\n",
       "      <td>-17.3</td>\n",
       "    </tr>\n",
       "    <tr>\n",
       "      <th>ABRYSVO</th>\n",
       "      <td>175.5</td>\n",
       "      <td>49724.91</td>\n",
       "      <td>55858.04</td>\n",
       "      <td>178</td>\n",
       "      <td>6133.13</td>\n",
       "      <td>313.81</td>\n",
       "      <td>0.16</td>\n",
       "      <td>11.0</td>\n",
       "    </tr>\n",
       "    <tr>\n",
       "      <th>ABSORICA</th>\n",
       "      <td>180.0</td>\n",
       "      <td>6918.42</td>\n",
       "      <td>5797.02</td>\n",
       "      <td>5</td>\n",
       "      <td>-1121.40</td>\n",
       "      <td>1159.40</td>\n",
       "      <td>0.02</td>\n",
       "      <td>-19.3</td>\n",
       "    </tr>\n",
       "    <tr>\n",
       "      <th>ACAMPROSATE</th>\n",
       "      <td>1200.0</td>\n",
       "      <td>530.02</td>\n",
       "      <td>770.16</td>\n",
       "      <td>12</td>\n",
       "      <td>240.14</td>\n",
       "      <td>64.18</td>\n",
       "      <td>0.00</td>\n",
       "      <td>31.2</td>\n",
       "    </tr>\n",
       "  </tbody>\n",
       "</table>\n",
       "</div>"
      ],
      "text/plain": [
       "                qty   acq_cost  total_price  num_claims   margin  avg_claim  \\\n",
       "drug                                                                          \n",
       "ABILIFY        53.0  125958.77    127985.88          53  2027.11    2414.83   \n",
       "ABIRATERONE   240.0     620.00       528.50           2   -91.50     264.25   \n",
       "ABRYSVO       175.5   49724.91     55858.04         178  6133.13     313.81   \n",
       "ABSORICA      180.0    6918.42      5797.02           5 -1121.40    1159.40   \n",
       "ACAMPROSATE  1200.0     530.02       770.16          12   240.14      64.18   \n",
       "\n",
       "             % of total  margin_pct  \n",
       "drug                                 \n",
       "ABILIFY            0.36         1.6  \n",
       "ABIRATERONE        0.00       -17.3  \n",
       "ABRYSVO            0.16        11.0  \n",
       "ABSORICA           0.02       -19.3  \n",
       "ACAMPROSATE        0.00        31.2  "
      ]
     },
     "execution_count": 7,
     "metadata": {},
     "output_type": "execute_result"
    }
   ],
   "source": [
    "claims_by_drug['avg_claim'] = (claims_by_drug.total_price / claims_by_drug.num_claims).round(2)\n",
    "claims_by_drug['% of total'] = ((claims_by_drug.total_price / claims_by_drug.total_price.sum()) * 100).round(2)\n",
    "claims_by_drug['margin_pct'] = ((claims_by_drug.margin / claims_by_drug.total_price) * 100).round(1)\n",
    "claims_by_drug.head()"
   ]
  },
  {
   "cell_type": "code",
   "execution_count": 8,
   "id": "de48b00f-ed47-40f3-a9e9-c0c35ecc11b9",
   "metadata": {},
   "outputs": [
    {
     "data": {
      "text/html": [
       "<div>\n",
       "<style scoped>\n",
       "    .dataframe tbody tr th:only-of-type {\n",
       "        vertical-align: middle;\n",
       "    }\n",
       "\n",
       "    .dataframe tbody tr th {\n",
       "        vertical-align: top;\n",
       "    }\n",
       "\n",
       "    .dataframe thead th {\n",
       "        text-align: right;\n",
       "    }\n",
       "</style>\n",
       "<table border=\"1\" class=\"dataframe\">\n",
       "  <thead>\n",
       "    <tr style=\"text-align: right;\">\n",
       "      <th></th>\n",
       "      <th>qty</th>\n",
       "      <th>acq_cost</th>\n",
       "      <th>total_price</th>\n",
       "      <th>num_claims</th>\n",
       "      <th>margin</th>\n",
       "      <th>avg_claim</th>\n",
       "      <th>% of total</th>\n",
       "      <th>margin_pct</th>\n",
       "    </tr>\n",
       "    <tr>\n",
       "      <th>drug</th>\n",
       "      <th></th>\n",
       "      <th></th>\n",
       "      <th></th>\n",
       "      <th></th>\n",
       "      <th></th>\n",
       "      <th></th>\n",
       "      <th></th>\n",
       "      <th></th>\n",
       "    </tr>\n",
       "  </thead>\n",
       "  <tbody>\n",
       "    <tr>\n",
       "      <th>OZEMPIC</th>\n",
       "      <td>10621.0</td>\n",
       "      <td>3224476.67</td>\n",
       "      <td>3220821.76</td>\n",
       "      <td>3346</td>\n",
       "      <td>-3654.91</td>\n",
       "      <td>962.59</td>\n",
       "      <td>8.97</td>\n",
       "      <td>-0.1</td>\n",
       "    </tr>\n",
       "    <tr>\n",
       "      <th>MOUNJARO</th>\n",
       "      <td>4400.0</td>\n",
       "      <td>2206763.17</td>\n",
       "      <td>2186195.74</td>\n",
       "      <td>2108</td>\n",
       "      <td>-20567.43</td>\n",
       "      <td>1037.09</td>\n",
       "      <td>6.09</td>\n",
       "      <td>-0.9</td>\n",
       "    </tr>\n",
       "    <tr>\n",
       "      <th>ELIQUIS</th>\n",
       "      <td>183334.0</td>\n",
       "      <td>1697090.15</td>\n",
       "      <td>1738159.33</td>\n",
       "      <td>2408</td>\n",
       "      <td>41069.18</td>\n",
       "      <td>721.83</td>\n",
       "      <td>4.84</td>\n",
       "      <td>2.4</td>\n",
       "    </tr>\n",
       "    <tr>\n",
       "      <th>JARDIANCE</th>\n",
       "      <td>88833.0</td>\n",
       "      <td>1705971.26</td>\n",
       "      <td>1699905.02</td>\n",
       "      <td>2073</td>\n",
       "      <td>-6066.24</td>\n",
       "      <td>820.02</td>\n",
       "      <td>4.74</td>\n",
       "      <td>-0.4</td>\n",
       "    </tr>\n",
       "    <tr>\n",
       "      <th>TRULICITY</th>\n",
       "      <td>2222.0</td>\n",
       "      <td>1016229.88</td>\n",
       "      <td>1017015.74</td>\n",
       "      <td>1005</td>\n",
       "      <td>785.86</td>\n",
       "      <td>1011.96</td>\n",
       "      <td>2.83</td>\n",
       "      <td>0.1</td>\n",
       "    </tr>\n",
       "    <tr>\n",
       "      <th>...</th>\n",
       "      <td>...</td>\n",
       "      <td>...</td>\n",
       "      <td>...</td>\n",
       "      <td>...</td>\n",
       "      <td>...</td>\n",
       "      <td>...</td>\n",
       "      <td>...</td>\n",
       "      <td>...</td>\n",
       "    </tr>\n",
       "    <tr>\n",
       "      <th>EYSUVIS</th>\n",
       "      <td>16.6</td>\n",
       "      <td>965.89</td>\n",
       "      <td>1011.12</td>\n",
       "      <td>2</td>\n",
       "      <td>45.23</td>\n",
       "      <td>505.56</td>\n",
       "      <td>0.00</td>\n",
       "      <td>4.5</td>\n",
       "    </tr>\n",
       "    <tr>\n",
       "      <th>RECTIV</th>\n",
       "      <td>60.0</td>\n",
       "      <td>1233.42</td>\n",
       "      <td>1010.32</td>\n",
       "      <td>1</td>\n",
       "      <td>-223.10</td>\n",
       "      <td>1010.32</td>\n",
       "      <td>0.00</td>\n",
       "      <td>-22.1</td>\n",
       "    </tr>\n",
       "    <tr>\n",
       "      <th>GRASTEK</th>\n",
       "      <td>90.0</td>\n",
       "      <td>1000.29</td>\n",
       "      <td>1010.13</td>\n",
       "      <td>3</td>\n",
       "      <td>9.84</td>\n",
       "      <td>336.71</td>\n",
       "      <td>0.00</td>\n",
       "      <td>1.0</td>\n",
       "    </tr>\n",
       "    <tr>\n",
       "      <th>DILANTIN</th>\n",
       "      <td>720.0</td>\n",
       "      <td>1108.96</td>\n",
       "      <td>1005.83</td>\n",
       "      <td>2</td>\n",
       "      <td>-103.13</td>\n",
       "      <td>502.92</td>\n",
       "      <td>0.00</td>\n",
       "      <td>-10.3</td>\n",
       "    </tr>\n",
       "    <tr>\n",
       "      <th>FELBAMATE</th>\n",
       "      <td>2880.0</td>\n",
       "      <td>3215.81</td>\n",
       "      <td>1003.57</td>\n",
       "      <td>8</td>\n",
       "      <td>-2212.24</td>\n",
       "      <td>125.45</td>\n",
       "      <td>0.00</td>\n",
       "      <td>-220.4</td>\n",
       "    </tr>\n",
       "  </tbody>\n",
       "</table>\n",
       "<p>803 rows × 8 columns</p>\n",
       "</div>"
      ],
      "text/plain": [
       "                qty    acq_cost  total_price  num_claims    margin  avg_claim  \\\n",
       "drug                                                                            \n",
       "OZEMPIC     10621.0  3224476.67   3220821.76        3346  -3654.91     962.59   \n",
       "MOUNJARO     4400.0  2206763.17   2186195.74        2108 -20567.43    1037.09   \n",
       "ELIQUIS    183334.0  1697090.15   1738159.33        2408  41069.18     721.83   \n",
       "JARDIANCE   88833.0  1705971.26   1699905.02        2073  -6066.24     820.02   \n",
       "TRULICITY    2222.0  1016229.88   1017015.74        1005    785.86    1011.96   \n",
       "...             ...         ...          ...         ...       ...        ...   \n",
       "EYSUVIS        16.6      965.89      1011.12           2     45.23     505.56   \n",
       "RECTIV         60.0     1233.42      1010.32           1   -223.10    1010.32   \n",
       "GRASTEK        90.0     1000.29      1010.13           3      9.84     336.71   \n",
       "DILANTIN      720.0     1108.96      1005.83           2   -103.13     502.92   \n",
       "FELBAMATE    2880.0     3215.81      1003.57           8  -2212.24     125.45   \n",
       "\n",
       "           % of total  margin_pct  \n",
       "drug                               \n",
       "OZEMPIC          8.97        -0.1  \n",
       "MOUNJARO         6.09        -0.9  \n",
       "ELIQUIS          4.84         2.4  \n",
       "JARDIANCE        4.74        -0.4  \n",
       "TRULICITY        2.83         0.1  \n",
       "...               ...         ...  \n",
       "EYSUVIS          0.00         4.5  \n",
       "RECTIV           0.00       -22.1  \n",
       "GRASTEK          0.00         1.0  \n",
       "DILANTIN         0.00       -10.3  \n",
       "FELBAMATE        0.00      -220.4  \n",
       "\n",
       "[803 rows x 8 columns]"
      ]
     },
     "execution_count": 8,
     "metadata": {},
     "output_type": "execute_result"
    }
   ],
   "source": [
    "top_drugs = claims_by_drug.sort_values(by='total_price', ascending=False)\n",
    "top_drugs = top_drugs.loc[top_drugs.total_price > 1000]\n",
    "top_drugs"
   ]
  },
  {
   "cell_type": "markdown",
   "id": "ffe3e9c7-fa06-44ca-9015-6b95e1a786bb",
   "metadata": {},
   "source": [
    "### Ten drugs account for 37% of prescription spending."
   ]
  },
  {
   "cell_type": "code",
   "execution_count": 9,
   "id": "7fe071c1-4d45-4bea-a43a-5f6aa233f7b5",
   "metadata": {},
   "outputs": [
    {
     "data": {
      "text/plain": [
       "37.02"
      ]
     },
     "execution_count": 9,
     "metadata": {},
     "output_type": "execute_result"
    }
   ],
   "source": [
    "top_10 = top_drugs.head(10)\n",
    "round(sum(top_10['% of total']),2)"
   ]
  },
  {
   "cell_type": "code",
   "execution_count": 10,
   "id": "f311d5b7-976c-4538-9f36-64e138a2aafc",
   "metadata": {},
   "outputs": [
    {
     "data": {
      "image/png": "[encoded data removed]",
      "text/plain": [
       "<Figure size 800x600 with 1 Axes>"
      ]
     },
     "metadata": {},
     "output_type": "display_data"
    }
   ],
   "source": [
    "plt.figure(figsize = (8, 6))\n",
    "ax = sns.barplot(top_10, x=top_10.index, y='% of total')\n",
    "plt.title('Top Ten Drugs, Percent of Total Spent')\n",
    "plt.xticks(rotation=90)\n",
    "\n",
    "for p in ax.patches:\n",
    "    ax.annotate(format(p.get_height(), '.1f'),\n",
    "                (p.get_x() + p.get_width() / 2., p.get_height()),\n",
    "                ha = 'center', va = 'center', \n",
    "                xytext = (0, 9), \n",
    "                textcoords = 'offset points')\n",
    "\n",
    "plt.show()"
   ]
  },
  {
   "cell_type": "markdown",
   "id": "54516aa5-84f4-4d5b-a8fb-d1cc22622b2b",
   "metadata": {},
   "source": [
    "### The popularity of GLP-1 medications has driven spending while driving down margins for pharmacies"
   ]
  },
  {
   "cell_type": "markdown",
   "id": "bfa7b5a0-8aa7-46ad-8335-75e37b18fd64",
   "metadata": {},
   "source": [
    "Over the past few years, a major trend in healthcare and pharmacoeconomics has been the rise of glucagon-like peptide-1 receptor agonists, which are often shortened to GLP or GLP-1, and usually associated by the broader public with the most common example, Ozempic. The two medications with the highest drug spend were Ozempic and Mounjaro, two GLPs that combined for more than 15% of money spent on medications."
   ]
  },
  {
   "cell_type": "code",
   "execution_count": 11,
   "id": "3c99eafd-f0c4-4944-8905-8770b50797cf",
   "metadata": {},
   "outputs": [
    {
     "data": {
      "text/html": [
       "<div>\n",
       "<style scoped>\n",
       "    .dataframe tbody tr th:only-of-type {\n",
       "        vertical-align: middle;\n",
       "    }\n",
       "\n",
       "    .dataframe tbody tr th {\n",
       "        vertical-align: top;\n",
       "    }\n",
       "\n",
       "    .dataframe thead th {\n",
       "        text-align: right;\n",
       "    }\n",
       "</style>\n",
       "<table border=\"1\" class=\"dataframe\">\n",
       "  <thead>\n",
       "    <tr style=\"text-align: right;\">\n",
       "      <th></th>\n",
       "      <th>qty</th>\n",
       "      <th>acq_cost</th>\n",
       "      <th>total_price</th>\n",
       "      <th>num_claims</th>\n",
       "      <th>margin</th>\n",
       "      <th>avg_claim</th>\n",
       "      <th>% of total</th>\n",
       "      <th>margin_pct</th>\n",
       "    </tr>\n",
       "    <tr>\n",
       "      <th>drug</th>\n",
       "      <th></th>\n",
       "      <th></th>\n",
       "      <th></th>\n",
       "      <th></th>\n",
       "      <th></th>\n",
       "      <th></th>\n",
       "      <th></th>\n",
       "      <th></th>\n",
       "    </tr>\n",
       "  </thead>\n",
       "  <tbody>\n",
       "    <tr>\n",
       "      <th>OZEMPIC</th>\n",
       "      <td>10621.0</td>\n",
       "      <td>3224476.67</td>\n",
       "      <td>3220821.76</td>\n",
       "      <td>3346</td>\n",
       "      <td>-3654.91</td>\n",
       "      <td>962.59</td>\n",
       "      <td>8.97</td>\n",
       "      <td>-0.1</td>\n",
       "    </tr>\n",
       "    <tr>\n",
       "      <th>MOUNJARO</th>\n",
       "      <td>4400.0</td>\n",
       "      <td>2206763.17</td>\n",
       "      <td>2186195.74</td>\n",
       "      <td>2108</td>\n",
       "      <td>-20567.43</td>\n",
       "      <td>1037.09</td>\n",
       "      <td>6.09</td>\n",
       "      <td>-0.9</td>\n",
       "    </tr>\n",
       "    <tr>\n",
       "      <th>TRULICITY</th>\n",
       "      <td>2222.0</td>\n",
       "      <td>1016229.88</td>\n",
       "      <td>1017015.74</td>\n",
       "      <td>1005</td>\n",
       "      <td>785.86</td>\n",
       "      <td>1011.96</td>\n",
       "      <td>2.83</td>\n",
       "      <td>0.1</td>\n",
       "    </tr>\n",
       "    <tr>\n",
       "      <th>WEGOVY</th>\n",
       "      <td>1828.0</td>\n",
       "      <td>830537.86</td>\n",
       "      <td>812981.92</td>\n",
       "      <td>622</td>\n",
       "      <td>-17555.94</td>\n",
       "      <td>1307.04</td>\n",
       "      <td>2.27</td>\n",
       "      <td>-2.2</td>\n",
       "    </tr>\n",
       "    <tr>\n",
       "      <th>RYBELSUS</th>\n",
       "      <td>8040.0</td>\n",
       "      <td>244831.23</td>\n",
       "      <td>241628.16</td>\n",
       "      <td>224</td>\n",
       "      <td>-3203.07</td>\n",
       "      <td>1078.70</td>\n",
       "      <td>0.67</td>\n",
       "      <td>-1.3</td>\n",
       "    </tr>\n",
       "    <tr>\n",
       "      <th>ZEPBOUND</th>\n",
       "      <td>384.0</td>\n",
       "      <td>194423.46</td>\n",
       "      <td>200043.52</td>\n",
       "      <td>192</td>\n",
       "      <td>5620.06</td>\n",
       "      <td>1041.89</td>\n",
       "      <td>0.56</td>\n",
       "      <td>2.8</td>\n",
       "    </tr>\n",
       "  </tbody>\n",
       "</table>\n",
       "</div>"
      ],
      "text/plain": [
       "               qty    acq_cost  total_price  num_claims    margin  avg_claim  \\\n",
       "drug                                                                           \n",
       "OZEMPIC    10621.0  3224476.67   3220821.76        3346  -3654.91     962.59   \n",
       "MOUNJARO    4400.0  2206763.17   2186195.74        2108 -20567.43    1037.09   \n",
       "TRULICITY   2222.0  1016229.88   1017015.74        1005    785.86    1011.96   \n",
       "WEGOVY      1828.0   830537.86    812981.92         622 -17555.94    1307.04   \n",
       "RYBELSUS    8040.0   244831.23    241628.16         224  -3203.07    1078.70   \n",
       "ZEPBOUND     384.0   194423.46    200043.52         192   5620.06    1041.89   \n",
       "\n",
       "           % of total  margin_pct  \n",
       "drug                               \n",
       "OZEMPIC          8.97        -0.1  \n",
       "MOUNJARO         6.09        -0.9  \n",
       "TRULICITY        2.83         0.1  \n",
       "WEGOVY           2.27        -2.2  \n",
       "RYBELSUS         0.67        -1.3  \n",
       "ZEPBOUND         0.56         2.8  "
      ]
     },
     "execution_count": 11,
     "metadata": {},
     "output_type": "execute_result"
    }
   ],
   "source": [
    "glp_list = ['OZEMPIC', 'MOUNJARO', 'WEGOVY', 'TRULICITY', 'RYBELSUS', 'ZEPBOUND']\n",
    "top_drugs.loc[top_drugs.index.isin(glp_list)]"
   ]
  },
  {
   "cell_type": "code",
   "execution_count": 12,
   "id": "8b46ac0a-0e99-4ba8-9138-5ffd518dde28",
   "metadata": {},
   "outputs": [],
   "source": [
    "ozempic = claims.loc[claims['drug'] == 'OZEMPIC']"
   ]
  },
  {
   "cell_type": "code",
   "execution_count": 13,
   "id": "e93c65f8-a6fe-41f8-b300-25cf7cea5581",
   "metadata": {},
   "outputs": [
    {
     "data": {
      "image/png": "[encoded data removed]",
      "text/plain": [
       "<Figure size 640x480 with 1 Axes>"
      ]
     },
     "metadata": {},
     "output_type": "display_data"
    }
   ],
   "source": [
    "_ = sns.histplot(ozempic, x='margin', bins=[-300, -200, -150, -100, -50, 0, 50, 100, 150, 200, 300])\n",
    "_ = plt.axvline(x=0, color = 'r', label = 'Wholesale cost')\n",
    "_ = plt.legend(bbox_to_anchor = (1.0, 1), loc = 'upper left')\n",
    "_ = plt.title('Margin of Ozempic Claims')\n",
    "_ = plt.xlabel('Margin ($)')\n",
    "plt.show()"
   ]
  },
  {
   "cell_type": "code",
   "execution_count": 14,
   "id": "85b60455-6134-493d-ac2d-9af52284386d",
   "metadata": {},
   "outputs": [],
   "source": [
    "mounjaro = claims.loc[claims['drug'] == 'MOUNJARO']\n",
    "# Upon manual review, all records excluded here are incorrect\n",
    "mounjaro = mounjaro.loc[mounjaro['margin'] < 400]"
   ]
  },
  {
   "cell_type": "code",
   "execution_count": 15,
   "id": "2fd8f8b5-0e50-420c-bb51-757c432befe8",
   "metadata": {},
   "outputs": [
    {
     "data": {
      "image/png": "[encoded data removed]",
      "text/plain": [
       "<Figure size 640x480 with 1 Axes>"
      ]
     },
     "metadata": {},
     "output_type": "display_data"
    }
   ],
   "source": [
    "_ = sns.histplot(mounjaro, x='margin', bins=[-300, -200, -150, -100, -50, 0, 50, 100, 150, 200, 300])\n",
    "_ = plt.axvline(x=0, color = 'r', label = 'Wholesale cost')\n",
    "_ = plt.legend(bbox_to_anchor = (1.0, 1), loc = 'upper left')\n",
    "_ = plt.title('Margin of Mounjaro Claims')\n",
    "_ = plt.xlabel('Margin ($)')\n",
    "plt.show()"
   ]
  },
  {
   "cell_type": "markdown",
   "id": "e00f3ea2-8d4e-496c-a796-3904dc28b513",
   "metadata": {},
   "source": [
    "The recent popluarity of these medications has had a negative impact on pharmacies. Their high cost and low insurance reimbursement rates lead to negative returns on large outlays of capital."
   ]
  },
  {
   "cell_type": "code",
   "execution_count": 16,
   "id": "1891d17c-8858-4586-a1bc-010aee0990ff",
   "metadata": {},
   "outputs": [
    {
     "data": {
      "text/html": [
       "<div>\n",
       "<style scoped>\n",
       "    .dataframe tbody tr th:only-of-type {\n",
       "        vertical-align: middle;\n",
       "    }\n",
       "\n",
       "    .dataframe tbody tr th {\n",
       "        vertical-align: top;\n",
       "    }\n",
       "\n",
       "    .dataframe thead th {\n",
       "        text-align: right;\n",
       "    }\n",
       "</style>\n",
       "<table border=\"1\" class=\"dataframe\">\n",
       "  <thead>\n",
       "    <tr style=\"text-align: right;\">\n",
       "      <th></th>\n",
       "      <th>qty</th>\n",
       "      <th>acq_cost</th>\n",
       "      <th>total_price</th>\n",
       "      <th>num_claims</th>\n",
       "      <th>margin</th>\n",
       "      <th>avg_claim</th>\n",
       "      <th>% of total</th>\n",
       "      <th>margin_pct</th>\n",
       "    </tr>\n",
       "    <tr>\n",
       "      <th>drug</th>\n",
       "      <th></th>\n",
       "      <th></th>\n",
       "      <th></th>\n",
       "      <th></th>\n",
       "      <th></th>\n",
       "      <th></th>\n",
       "      <th></th>\n",
       "      <th></th>\n",
       "    </tr>\n",
       "  </thead>\n",
       "  <tbody>\n",
       "    <tr>\n",
       "      <th>AMPHETAMINE</th>\n",
       "      <td>471904.0</td>\n",
       "      <td>182652.08</td>\n",
       "      <td>299093.82</td>\n",
       "      <td>9319</td>\n",
       "      <td>116441.74</td>\n",
       "      <td>32.10</td>\n",
       "      <td>0.83</td>\n",
       "      <td>38.9</td>\n",
       "    </tr>\n",
       "    <tr>\n",
       "      <th>FLUAD</th>\n",
       "      <td>1114.5</td>\n",
       "      <td>111043.52</td>\n",
       "      <td>200974.86</td>\n",
       "      <td>2229</td>\n",
       "      <td>89931.34</td>\n",
       "      <td>90.16</td>\n",
       "      <td>0.56</td>\n",
       "      <td>44.7</td>\n",
       "    </tr>\n",
       "    <tr>\n",
       "      <th>PANTOPRAZOLE</th>\n",
       "      <td>358691.0</td>\n",
       "      <td>22082.15</td>\n",
       "      <td>93577.24</td>\n",
       "      <td>6033</td>\n",
       "      <td>71495.09</td>\n",
       "      <td>15.51</td>\n",
       "      <td>0.26</td>\n",
       "      <td>76.4</td>\n",
       "    </tr>\n",
       "    <tr>\n",
       "      <th>TRIENTINE</th>\n",
       "      <td>480.0</td>\n",
       "      <td>2331.56</td>\n",
       "      <td>72955.56</td>\n",
       "      <td>2</td>\n",
       "      <td>70624.00</td>\n",
       "      <td>36477.78</td>\n",
       "      <td>0.20</td>\n",
       "      <td>96.8</td>\n",
       "    </tr>\n",
       "    <tr>\n",
       "      <th>ROSUVASTATIN</th>\n",
       "      <td>344130.0</td>\n",
       "      <td>38180.09</td>\n",
       "      <td>108692.21</td>\n",
       "      <td>6134</td>\n",
       "      <td>70512.12</td>\n",
       "      <td>17.72</td>\n",
       "      <td>0.30</td>\n",
       "      <td>64.9</td>\n",
       "    </tr>\n",
       "    <tr>\n",
       "      <th>ATORVASTATIN</th>\n",
       "      <td>626415.0</td>\n",
       "      <td>70956.37</td>\n",
       "      <td>139041.39</td>\n",
       "      <td>10866</td>\n",
       "      <td>68085.02</td>\n",
       "      <td>12.80</td>\n",
       "      <td>0.39</td>\n",
       "      <td>49.0</td>\n",
       "    </tr>\n",
       "    <tr>\n",
       "      <th>LEVOTHYROXINE</th>\n",
       "      <td>443677.0</td>\n",
       "      <td>43874.12</td>\n",
       "      <td>109750.20</td>\n",
       "      <td>8382</td>\n",
       "      <td>65876.08</td>\n",
       "      <td>13.09</td>\n",
       "      <td>0.31</td>\n",
       "      <td>60.0</td>\n",
       "    </tr>\n",
       "    <tr>\n",
       "      <th>LOSARTAN</th>\n",
       "      <td>438517.0</td>\n",
       "      <td>25782.07</td>\n",
       "      <td>91342.84</td>\n",
       "      <td>7649</td>\n",
       "      <td>65560.77</td>\n",
       "      <td>11.94</td>\n",
       "      <td>0.25</td>\n",
       "      <td>71.8</td>\n",
       "    </tr>\n",
       "    <tr>\n",
       "      <th>HYDROCODONE</th>\n",
       "      <td>458667.0</td>\n",
       "      <td>67258.69</td>\n",
       "      <td>120862.62</td>\n",
       "      <td>7266</td>\n",
       "      <td>53603.93</td>\n",
       "      <td>16.63</td>\n",
       "      <td>0.34</td>\n",
       "      <td>44.4</td>\n",
       "    </tr>\n",
       "    <tr>\n",
       "      <th>DULOXETINE</th>\n",
       "      <td>207835.0</td>\n",
       "      <td>29932.28</td>\n",
       "      <td>83265.23</td>\n",
       "      <td>3792</td>\n",
       "      <td>53332.95</td>\n",
       "      <td>21.96</td>\n",
       "      <td>0.23</td>\n",
       "      <td>64.1</td>\n",
       "    </tr>\n",
       "  </tbody>\n",
       "</table>\n",
       "</div>"
      ],
      "text/plain": [
       "                    qty   acq_cost  total_price  num_claims     margin  \\\n",
       "drug                                                                     \n",
       "AMPHETAMINE    471904.0  182652.08    299093.82        9319  116441.74   \n",
       "FLUAD            1114.5  111043.52    200974.86        2229   89931.34   \n",
       "PANTOPRAZOLE   358691.0   22082.15     93577.24        6033   71495.09   \n",
       "TRIENTINE         480.0    2331.56     72955.56           2   70624.00   \n",
       "ROSUVASTATIN   344130.0   38180.09    108692.21        6134   70512.12   \n",
       "ATORVASTATIN   626415.0   70956.37    139041.39       10866   68085.02   \n",
       "LEVOTHYROXINE  443677.0   43874.12    109750.20        8382   65876.08   \n",
       "LOSARTAN       438517.0   25782.07     91342.84        7649   65560.77   \n",
       "HYDROCODONE    458667.0   67258.69    120862.62        7266   53603.93   \n",
       "DULOXETINE     207835.0   29932.28     83265.23        3792   53332.95   \n",
       "\n",
       "               avg_claim  % of total  margin_pct  \n",
       "drug                                              \n",
       "AMPHETAMINE        32.10        0.83        38.9  \n",
       "FLUAD              90.16        0.56        44.7  \n",
       "PANTOPRAZOLE       15.51        0.26        76.4  \n",
       "TRIENTINE       36477.78        0.20        96.8  \n",
       "ROSUVASTATIN       17.72        0.30        64.9  \n",
       "ATORVASTATIN       12.80        0.39        49.0  \n",
       "LEVOTHYROXINE      13.09        0.31        60.0  \n",
       "LOSARTAN           11.94        0.25        71.8  \n",
       "HYDROCODONE        16.63        0.34        44.4  \n",
       "DULOXETINE         21.96        0.23        64.1  "
      ]
     },
     "execution_count": 16,
     "metadata": {},
     "output_type": "execute_result"
    }
   ],
   "source": [
    "top_margin = top_drugs.sort_values(by='margin', ascending=False).head(10)\n",
    "top_margin"
   ]
  },
  {
   "cell_type": "markdown",
   "id": "236a1756-0ad9-4f04-b3cb-49581f3ccaf0",
   "metadata": {},
   "source": [
    "### The highest-margin drugs tend to be generic medications with relatively low prices"
   ]
  },
  {
   "cell_type": "code",
   "execution_count": 17,
   "id": "b5c90f5a-853d-48cf-bf8e-a7b8e2cd5e1b",
   "metadata": {},
   "outputs": [],
   "source": [
    "top_margin_index = top_margin.head(5).reset_index()\n",
    "margin_melt = top_margin_index.melt(id_vars='drug', value_vars=['total_price','acq_cost'])"
   ]
  },
  {
   "cell_type": "code",
   "execution_count": 18,
   "id": "5e6684f3-bcc7-4c8e-9336-a103b6e536b4",
   "metadata": {},
   "outputs": [
    {
     "data": {
      "image/png": "[encoded data removed]",
      "text/plain": [
       "<Figure size 640x480 with 1 Axes>"
      ]
     },
     "metadata": {},
     "output_type": "display_data"
    }
   ],
   "source": [
    "sns.barplot(margin_melt, x='drug', y='value', hue='variable')\n",
    "plt.ylabel('Volume ($)')\n",
    "plt.title('Top drugs by margin')\n",
    "plt.xticks(rotation=90)\n",
    "plt.show()"
   ]
  },
  {
   "cell_type": "markdown",
   "id": "ededa8d8-b098-4343-9af1-c01df157ffff",
   "metadata": {},
   "source": [
    "### The top-selling drugs (by $ volume) all have low-to-negative margins"
   ]
  },
  {
   "cell_type": "code",
   "execution_count": 19,
   "id": "f9cb27d3-6287-40d4-8a31-c9d7101d0165",
   "metadata": {},
   "outputs": [],
   "source": [
    "top_5_index = top_10.head(5).reset_index()\n",
    "top_5_melt = top_5_index.melt(id_vars='drug', value_vars=['total_price','acq_cost'])"
   ]
  },
  {
   "cell_type": "code",
   "execution_count": 20,
   "id": "2ba311f4-5001-424c-a004-b44d1ddd65ca",
   "metadata": {},
   "outputs": [
    {
     "data": {
      "image/png": "[encoded data removed]",
      "text/plain": [
       "<Figure size 640x480 with 1 Axes>"
      ]
     },
     "metadata": {},
     "output_type": "display_data"
    }
   ],
   "source": [
    "sns.barplot(top_5_melt, x='drug', y='value', hue='variable')\n",
    "plt.ylabel('Volume ($ in millions)')\n",
    "plt.title('Top drugs by $ volume')\n",
    "plt.xticks(rotation=90)\n",
    "plt.show()"
   ]
  },
  {
   "cell_type": "markdown",
   "id": "8d8e1e5a-f66b-4855-9224-b0d523dcd3c2",
   "metadata": {},
   "source": [
    "### Combined comparison"
   ]
  },
  {
   "cell_type": "code",
   "execution_count": 21,
   "id": "1f280d69-5388-4236-b00f-d4cafff77cba",
   "metadata": {},
   "outputs": [],
   "source": [
    "combined_melt = pd.concat([top_5_melt, margin_melt])"
   ]
  },
  {
   "cell_type": "code",
   "execution_count": 22,
   "id": "8d17e4a3-a630-4b7d-a34f-c3f4a80540d2",
   "metadata": {},
   "outputs": [
    {
     "data": {
      "image/png": "[encoded data removed]",
      "text/plain": [
       "<Figure size 640x480 with 1 Axes>"
      ]
     },
     "metadata": {},
     "output_type": "display_data"
    }
   ],
   "source": [
    "sns.barplot(combined_melt, x='drug', y='value', hue='variable')\n",
    "plt.xticks(rotation=90)\n",
    "plt.ylabel('Volume ($ in millions)')\n",
    "plt.title('Combined Comparison')\n",
    "plt.show()"
   ]
  },
  {
   "cell_type": "markdown",
   "id": "f418e8ce-0083-4cbb-a84f-3b5240bf0139",
   "metadata": {},
   "source": [
    "Expensive branded medications account for an outsized proportion of pharmaceutical spending, while being simultaneously detrimental to cash flow and profitability of pharmacies. These trends are only accelerating with the rising popularity of GLP-1 products. Pharmacy profitability is driven by margins on generic drugs, but reimbursement rates have fallen in recent years, leading to many pharmacy closures."
   ]
  },
  {
   "cell_type": "markdown",
   "id": "f298de39-4020-4cb4-9cd3-88eba31abc42",
   "metadata": {},
   "source": [
    "### Generic Case Study: Atorvastatin"
   ]
  },
  {
   "cell_type": "markdown",
   "id": "7917390a-f856-432c-acb9-e00e0f936f0c",
   "metadata": {},
   "source": [
    "Atorvastatin is a cholesterol medication which became the highest-grossing pharmaceutical product of all time under the brand name Lipitor. Now available generically at a wholesale cost of less than $5 per month, it is representative of the generic products pharmacies rely on to support profitability.\n",
    "\n",
    "Below: Generic Sequence Number (GSN) refers to a specific drug, dosage form, and strength. GSN 29969 refers to atorvastatin 40mg tablets, one of the most commonly filled products in this dataset."
   ]
  },
  {
   "cell_type": "code",
   "execution_count": 23,
   "id": "9066dab7-95b2-4665-8786-974105fff527",
   "metadata": {},
   "outputs": [
    {
     "data": {
      "text/plain": [
       "gsn\n",
       "27462.0    5500\n",
       "28090.0    5000\n",
       "47430.0    4150\n",
       "29969.0    3816\n",
       "24668.0    3765\n",
       "Name: count, dtype: int64"
      ]
     },
     "execution_count": 23,
     "metadata": {},
     "output_type": "execute_result"
    }
   ],
   "source": [
    "claims.value_counts().groupby('gsn').sum().sort_values(ascending=False).head()"
   ]
  },
  {
   "cell_type": "code",
   "execution_count": 24,
   "id": "43a4c5f7-c295-471c-a6f4-8826855fb5aa",
   "metadata": {},
   "outputs": [],
   "source": [
    "def gsn_claims(gsn):\n",
    "   return claims.loc[claims.gsn == gsn].copy()"
   ]
  },
  {
   "cell_type": "code",
   "execution_count": 25,
   "id": "b1d07eeb-6026-4a7f-b9c6-10013c89fb45",
   "metadata": {},
   "outputs": [],
   "source": [
    "atorvastatin40 = gsn_claims(29969)"
   ]
  },
  {
   "cell_type": "code",
   "execution_count": 26,
   "id": "6e8820ca-4a05-45a9-80f5-a1ba5b6b47da",
   "metadata": {},
   "outputs": [],
   "source": [
    "atorvastatin40['price_per_month'] = atorvastatin40.total_price / (atorvastatin40.qty / 30)"
   ]
  },
  {
   "cell_type": "code",
   "execution_count": 27,
   "id": "e8a4d0d5-521f-4b98-9d1b-274bba0c7887",
   "metadata": {},
   "outputs": [],
   "source": [
    "atorvastatin40.drop(index=[118776, 245602], inplace=True)\n",
    "atorvastatin40.drop(atorvastatin40.loc[atorvastatin40.tp_code == '1'].index, inplace=True)\n",
    "atorvastatin40 = atorvastatin40.drop(columns=['tp_code', 'tp_name'])"
   ]
  },
  {
   "cell_type": "code",
   "execution_count": 28,
   "id": "cdfe6e32-6ed5-47c2-884f-1c1101fb9fbd",
   "metadata": {},
   "outputs": [
    {
     "data": {
      "image/png": "[encoded data removed]",
      "text/plain": [
       "<Figure size 640x480 with 1 Axes>"
      ]
     },
     "metadata": {},
     "output_type": "display_data"
    }
   ],
   "source": [
    "_ = sns.histplot(atorvastatin40, x='price_per_month', bins=11)\n",
    "_ = plt.axvline(x=4.90, color = 'r', label = 'Wholesale cost')\n",
    "_ = plt.legend(bbox_to_anchor = (1.0, 1), loc = 'upper left')\n",
    "plt.show()"
   ]
  },
  {
   "cell_type": "markdown",
   "id": "6b760c3c-be54-4b49-b42c-28df8e9f6045",
   "metadata": {},
   "source": [
    "As this figure shows, many claims are reimbursed below the cost of the tablets themselves, and many more are below-cost when other factors outside of this analysis are accounted for. The wide spread of reimbursement rates add to the financial difficulties pharmacies face today."
   ]
  }
 ],
 "metadata": {
  "kernelspec": {
   "display_name": "Python 3 (ipykernel)",
   "language": "python",
   "name": "python3"
  },
  "language_info": {
   "codemirror_mode": {
    "name": "ipython",
    "version": 3
   },
   "file_extension": ".py",
   "mimetype": "text/x-python",
   "name": "python",
   "nbconvert_exporter": "python",
   "pygments_lexer": "ipython3",
   "version": "3.11.7"
  }
 },
 "nbformat": 4,
 "nbformat_minor": 5
}
